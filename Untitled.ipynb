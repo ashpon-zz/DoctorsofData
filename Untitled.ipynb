{
 "cells": [
  {
   "cell_type": "code",
   "execution_count": 1,
   "metadata": {
    "collapsed": true
   },
   "outputs": [],
   "source": [
    "import json\n",
    "import requests\n",
    "import pandas as pd\n",
    "from states import states"
   ]
  },
  {
   "cell_type": "code",
   "execution_count": 2,
   "metadata": {
    "collapsed": true
   },
   "outputs": [],
   "source": [
    "session = requests.Session()\n",
    "df = pd.DataFrame(columns = ['name','birthday','age','sex','ethnicity','NCMEC_case#','case_type','missing_date','missing_city','missing_county','missing_state',])"
   ]
  },
  {
   "cell_type": "code",
   "execution_count": 3,
   "metadata": {
    "collapsed": true
   },
   "outputs": [],
   "source": [
    "def PagesPerState(state):\n",
    "    query_url_temp = \"http://www.missingkids.com/missingkids/servlet/JSONDataServlet?action=publicSearch&searchLang=en_US&search=new&subjToSearch=child&missState=\" + state + \"&missCountry=US\"\n",
    "    response_temp = session.get(query_url_temp)\n",
    "    response_temp_json = json.loads(response_temp.text)\n",
    "    pages = response_temp_json['totalPages']\n",
    "    return pages"
   ]
  },
  {
   "cell_type": "code",
   "execution_count": 4,
   "metadata": {},
   "outputs": [
    {
     "ename": "SyntaxError",
     "evalue": "invalid syntax (<ipython-input-4-fdbbf88291d2>, line 1)",
     "output_type": "error",
     "traceback": [
      "\u001b[1;36m  File \u001b[1;32m\"<ipython-input-4-fdbbf88291d2>\"\u001b[1;36m, line \u001b[1;32m1\u001b[0m\n\u001b[1;33m    def ResponseLoopJSON()\u001b[0m\n\u001b[1;37m                          ^\u001b[0m\n\u001b[1;31mSyntaxError\u001b[0m\u001b[1;31m:\u001b[0m invalid syntax\n"
     ]
    }
   ],
   "source": [
    "def PagePersonsList(page)\n",
    "    query_url_loop = \"http://www.missingkids.com/missingkids/servlet/JSONDataServlet?action=publicSearch&searchLang=en_US&goToPage={}\".format(page)\n",
    "    response_loop = session.get(query_url_loop)\n",
    "    response_loop_json = json.loads(response_loop.text)"
   ]
  },
  {
   "cell_type": "code",
   "execution_count": 5,
   "metadata": {},
   "outputs": [
    {
     "name": "stdout",
     "output_type": "stream",
     "text": [
      "2\n",
      "5\n",
      "5\n",
      "17\n",
      "70\n",
      "10\n",
      "3\n",
      "2\n",
      "41\n",
      "11\n",
      "2\n",
      "1\n",
      "3\n",
      "14\n",
      "7\n",
      "3\n",
      "5\n",
      "4\n",
      "13\n",
      "13\n",
      "1\n",
      "10\n",
      "5\n",
      "8\n",
      "4\n",
      "1\n",
      "8\n",
      "1\n",
      "4\n",
      "2\n",
      "7\n",
      "5\n",
      "7\n",
      "24\n",
      "16\n",
      "9\n",
      "7\n",
      "15\n",
      "1\n",
      "7\n",
      "1\n",
      "9\n",
      "41\n",
      "3\n",
      "41\n",
      "1\n",
      "11\n",
      "6\n",
      "1\n",
      "1\n"
     ]
    }
   ],
   "source": [
    "for state in states:\n",
    "    print(PagesPerState(state))"
   ]
  },
  {
   "cell_type": "code",
   "execution_count": 6,
   "metadata": {},
   "outputs": [
    {
     "name": "stdout",
     "output_type": "stream",
     "text": [
      "50\n"
     ]
    }
   ],
   "source": [
    "print(len(states))"
   ]
  },
  {
   "cell_type": "code",
   "execution_count": null,
   "metadata": {
    "collapsed": true
   },
   "outputs": [],
   "source": []
  }
 ],
 "metadata": {
  "kernelspec": {
   "display_name": "Python 3",
   "language": "python",
   "name": "python3"
  },
  "language_info": {
   "codemirror_mode": {
    "name": "ipython",
    "version": 3
   },
   "file_extension": ".py",
   "mimetype": "text/x-python",
   "name": "python",
   "nbconvert_exporter": "python",
   "pygments_lexer": "ipython3",
   "version": "3.6.1"
  }
 },
 "nbformat": 4,
 "nbformat_minor": 2
}
