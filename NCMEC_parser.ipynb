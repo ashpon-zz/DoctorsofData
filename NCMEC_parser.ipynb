{
 "cells": [
  {
   "cell_type": "code",
   "execution_count": 1,
   "metadata": {
    "collapsed": true
   },
   "outputs": [],
   "source": [
    "import json\n",
    "import requests\n",
    "import pandas as pd\n",
    "\n",
    "session = requests.Session()\n",
    "\n",
    "df = pd.DataFrame(columns = ['name','age','missing_date','missing_city','missing_county','missing_state',])"
   ]
  },
  {
   "cell_type": "code",
   "execution_count": 2,
   "metadata": {},
   "outputs": [
    {
     "name": "stdout",
     "output_type": "stream",
     "text": [
      "Which State to gather data from?(Abbreviations only) ny\n"
     ]
    }
   ],
   "source": [
    "state = input(\"Which State to gather data from?(Abbreviations only) \")\n",
    "query_url_temp = \"http://www.missingkids.com/missingkids/servlet/JSONDataServlet?action=publicSearch&searchLang=en_US&search=new&subjToSearch=child&missState=\" + state + \"&missCountry=US\"\n",
    "response_temp = session.get(query_url_temp)\n",
    "#print(\"{} {}\".format(response.status_code, response.reason))"
   ]
  },
  {
   "cell_type": "code",
   "execution_count": 3,
   "metadata": {
    "collapsed": true
   },
   "outputs": [],
   "source": [
    "response_temp_json = json.loads(response_temp.text)\n",
    "#print(json.dumps(response_temp_json, sort_keys=True, indent=4, separators=(',', ': ')))"
   ]
  },
  {
   "cell_type": "code",
   "execution_count": 4,
   "metadata": {},
   "outputs": [],
   "source": [
    "for i in range(int(response_temp_json['totalPages'])):\n",
    "    query_url_loop = \"http://www.missingkids.com/missingkids/servlet/JSONDataServlet?action=publicSearch&searchLang=en_US&goToPage={}\".format(i+1)\n",
    "    response_loop = session.get(query_url_loop)\n",
    "    response_loop_json = json.loads(response_loop.text)\n",
    "    #print(\"starting loop \" + str(i+1))\n",
    "    #print(query_url_loop)\n",
    "    for ii in range(len(response_loop_json['persons'])):\n",
    "        person_name = response_loop_json['persons'][ii]['firstName'] + \" \" + response_loop_json['persons'][ii]['lastName']\n",
    "        if response_loop_json['persons'][ii]['middleName'] != \"\":\n",
    "            person_name.replace(\"\", \" {} \".format(response_loop_json['persons'][ii]['middleName']))\n",
    "        \n",
    "        index_num = (len(response_loop_json['persons']) * i) + ii\n",
    "        try:\n",
    "            df.set_value(index_num,'name',person_name)\n",
    "            df.set_value(index_num,'age',response_loop_json['persons'][ii]['age'])\n",
    "            df.set_value(index_num,'missing_date',response_loop_json['persons'][ii]['missingDate'])\n",
    "            df.set_value(index_num,'missing_city',response_loop_json['persons'][ii]['missingCity'])\n",
    "            df.set_value(index_num,'missing_county',response_loop_json['persons'][ii]['missingCounty'])\n",
    "            df.set_value(index_num,'missing_state',response_loop_json['persons'][ii]['missingState'])\n",
    "        except:\n",
    "            print('error T.T')\n",
    "            continue\n",
    "        #print(person_name)\n",
    "            \n",
    "df.to_csv(\"NCMEC_{}.csv\".format(state), encoding=\"utf-8\", index=False)"
   ]
  },
  {
   "cell_type": "code",
   "execution_count": null,
   "metadata": {
    "collapsed": true
   },
   "outputs": [],
   "source": []
  }
 ],
 "metadata": {
  "kernelspec": {
   "display_name": "Python 3",
   "language": "python",
   "name": "python3"
  },
  "language_info": {
   "codemirror_mode": {
    "name": "ipython",
    "version": 3
   },
   "file_extension": ".py",
   "mimetype": "text/x-python",
   "name": "python",
   "nbconvert_exporter": "python",
   "pygments_lexer": "ipython3",
   "version": "3.6.1"
  }
 },
 "nbformat": 4,
 "nbformat_minor": 2
}
